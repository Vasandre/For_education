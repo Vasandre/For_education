{
  "nbformat": 4,
  "nbformat_minor": 0,
  "metadata": {
    "colab": {
      "provenance": []
    },
    "kernelspec": {
      "name": "python3",
      "display_name": "Python 3"
    },
    "language_info": {
      "name": "python"
    }
  },
  "cells": [
    {
      "cell_type": "code",
      "execution_count": null,
      "metadata": {
        "id": "ZkTCR_qyzqgk"
      },
      "outputs": [],
      "source": [
        "def change(func):\n",
        "\n",
        "  def inner(*args, **kwargs):\n",
        "\n",
        "    if args[0] == None:\n",
        "      raise Exception(\"Error\")\n",
        "    else:\n",
        "      return func(*args, **kwargs)\n",
        "  return inner"
      ]
    },
    {
      "cell_type": "code",
      "source": [
        "\n",
        "def func(s: str):\n",
        "  return len(s)"
      ],
      "metadata": {
        "id": "TSg5xeafgeC7"
      },
      "execution_count": null,
      "outputs": []
    },
    {
      "cell_type": "code",
      "source": [
        "func(9)\n"
      ],
      "metadata": {
        "colab": {
          "base_uri": "https://localhost:8080/",
          "height": 245
        },
        "id": "nRZcojG6gj7i",
        "outputId": "6d3d766f-7025-4e50-9a9f-4e2e97efd98b"
      },
      "execution_count": null,
      "outputs": [
        {
          "output_type": "error",
          "ename": "TypeError",
          "evalue": "ignored",
          "traceback": [
            "\u001b[0;31m---------------------------------------------------------------------------\u001b[0m",
            "\u001b[0;31mTypeError\u001b[0m                                 Traceback (most recent call last)",
            "\u001b[0;32m<ipython-input-9-67fb8ddb5502>\u001b[0m in \u001b[0;36m<cell line: 1>\u001b[0;34m()\u001b[0m\n\u001b[0;32m----> 1\u001b[0;31m \u001b[0mfunc\u001b[0m\u001b[0;34m(\u001b[0m\u001b[0;36m9\u001b[0m\u001b[0;34m)\u001b[0m\u001b[0;34m\u001b[0m\u001b[0;34m\u001b[0m\u001b[0m\n\u001b[0m",
            "\u001b[0;32m<ipython-input-7-8c0ad6194446>\u001b[0m in \u001b[0;36mfunc\u001b[0;34m(s)\u001b[0m\n\u001b[1;32m      1\u001b[0m \u001b[0;32mdef\u001b[0m \u001b[0mfunc\u001b[0m\u001b[0;34m(\u001b[0m\u001b[0ms\u001b[0m\u001b[0;34m:\u001b[0m \u001b[0mstr\u001b[0m\u001b[0;34m)\u001b[0m\u001b[0;34m:\u001b[0m\u001b[0;34m\u001b[0m\u001b[0;34m\u001b[0m\u001b[0m\n\u001b[0;32m----> 2\u001b[0;31m   \u001b[0;32mreturn\u001b[0m \u001b[0mlen\u001b[0m\u001b[0;34m(\u001b[0m\u001b[0ms\u001b[0m\u001b[0;34m)\u001b[0m\u001b[0;34m\u001b[0m\u001b[0;34m\u001b[0m\u001b[0m\n\u001b[0m",
            "\u001b[0;31mTypeError\u001b[0m: object of type 'int' has no len()"
          ]
        }
      ]
    },
    {
      "cell_type": "markdown",
      "source": [
        "# Декоратор, проверяющий элементы функции"
      ],
      "metadata": {
        "id": "Mzl2xmk88tHm"
      }
    },
    {
      "cell_type": "code",
      "source": [
        "import functools"
      ],
      "metadata": {
        "id": "FHXqIaC89KvZ"
      },
      "execution_count": null,
      "outputs": []
    },
    {
      "cell_type": "code",
      "source": [
        "def is_digit(func):\n",
        "  @functools.wraps(func)\n",
        "  def inner(*args, **kwargs):\n",
        "\n",
        "    for el in (args + tuple(kwargs.values())):\n",
        "      if not isinstance(el, int):\n",
        "        raise Exception(\"Error\")\n",
        "\n",
        "    return func(*args, **kwargs)\n",
        "\n",
        "  return inner\n"
      ],
      "metadata": {
        "id": "Ak9Mw8QXgkF6"
      },
      "execution_count": null,
      "outputs": []
    },
    {
      "cell_type": "code",
      "source": [
        "@is_digit\n",
        "def nums(*x):\n",
        "  return x"
      ],
      "metadata": {
        "id": "0i4IG1itgkIQ"
      },
      "execution_count": null,
      "outputs": []
    },
    {
      "cell_type": "code",
      "source": [
        "nums(9, \"2\")"
      ],
      "metadata": {
        "colab": {
          "base_uri": "https://localhost:8080/",
          "height": 297
        },
        "id": "pRl6hBFT9Jo1",
        "outputId": "55479a5e-02c5-4f55-c943-bf3ab5d59a5b"
      },
      "execution_count": null,
      "outputs": [
        {
          "output_type": "error",
          "ename": "Exception",
          "evalue": "ignored",
          "traceback": [
            "\u001b[0;31m---------------------------------------------------------------------------\u001b[0m",
            "\u001b[0;31mException\u001b[0m                                 Traceback (most recent call last)",
            "\u001b[0;32m<ipython-input-6-3464207b2274>\u001b[0m in \u001b[0;36m<cell line: 1>\u001b[0;34m()\u001b[0m\n\u001b[0;32m----> 1\u001b[0;31m \u001b[0mnums\u001b[0m\u001b[0;34m(\u001b[0m\u001b[0;36m9\u001b[0m\u001b[0;34m,\u001b[0m \u001b[0;34m\"2\"\u001b[0m\u001b[0;34m)\u001b[0m\u001b[0;34m\u001b[0m\u001b[0;34m\u001b[0m\u001b[0m\n\u001b[0m",
            "\u001b[0;32m<ipython-input-4-c6f13935b9b4>\u001b[0m in \u001b[0;36minner\u001b[0;34m(*args, **kwargs)\u001b[0m\n\u001b[1;32m      5\u001b[0m     \u001b[0;32mfor\u001b[0m \u001b[0mel\u001b[0m \u001b[0;32min\u001b[0m \u001b[0;34m(\u001b[0m\u001b[0margs\u001b[0m \u001b[0;34m+\u001b[0m \u001b[0mtuple\u001b[0m\u001b[0;34m(\u001b[0m\u001b[0mkwargs\u001b[0m\u001b[0;34m.\u001b[0m\u001b[0mvalues\u001b[0m\u001b[0;34m(\u001b[0m\u001b[0;34m)\u001b[0m\u001b[0;34m)\u001b[0m\u001b[0;34m)\u001b[0m\u001b[0;34m:\u001b[0m\u001b[0;34m\u001b[0m\u001b[0;34m\u001b[0m\u001b[0m\n\u001b[1;32m      6\u001b[0m       \u001b[0;32mif\u001b[0m \u001b[0;32mnot\u001b[0m \u001b[0misinstance\u001b[0m\u001b[0;34m(\u001b[0m\u001b[0mel\u001b[0m\u001b[0;34m,\u001b[0m \u001b[0mint\u001b[0m\u001b[0;34m)\u001b[0m\u001b[0;34m:\u001b[0m\u001b[0;34m\u001b[0m\u001b[0;34m\u001b[0m\u001b[0m\n\u001b[0;32m----> 7\u001b[0;31m         \u001b[0;32mraise\u001b[0m \u001b[0mException\u001b[0m\u001b[0;34m(\u001b[0m\u001b[0;34m\"Error\"\u001b[0m\u001b[0;34m)\u001b[0m\u001b[0;34m\u001b[0m\u001b[0;34m\u001b[0m\u001b[0m\n\u001b[0m\u001b[1;32m      8\u001b[0m \u001b[0;34m\u001b[0m\u001b[0m\n\u001b[1;32m      9\u001b[0m     \u001b[0;32mreturn\u001b[0m \u001b[0mfunc\u001b[0m\u001b[0;34m(\u001b[0m\u001b[0;34m*\u001b[0m\u001b[0margs\u001b[0m\u001b[0;34m,\u001b[0m \u001b[0;34m**\u001b[0m\u001b[0mkwargs\u001b[0m\u001b[0;34m)\u001b[0m\u001b[0;34m\u001b[0m\u001b[0;34m\u001b[0m\u001b[0m\n",
            "\u001b[0;31mException\u001b[0m: Error"
          ]
        }
      ]
    },
    {
      "cell_type": "markdown",
      "source": [
        "# Декоратор, который реализует мемоизацию\n"
      ],
      "metadata": {
        "id": "Y04uA7sz_Jed"
      }
    },
    {
      "cell_type": "code",
      "source": [
        "def memo(func):\n",
        "  func_value = dict()\n",
        "\n",
        "  @functools.wraps(func)\n",
        "  def inner(*args, **kwargs):\n",
        "    keys = (args, tuple(sorted(kwargs.values())))\n",
        "\n",
        "    if keys not in func_value:\n",
        "      func_value[keys] = func(*args, **kwargs)\n",
        "    print(func_value)\n",
        "\n",
        "    return func_value[keys]\n",
        "  return inner\n"
      ],
      "metadata": {
        "id": "SM4JKEsb9Jzn"
      },
      "execution_count": null,
      "outputs": []
    },
    {
      "cell_type": "code",
      "source": [
        "@memo\n",
        "def fib(n):\n",
        "  if (n == 0) or (n == 1):\n",
        "    return 1\n",
        "  else:\n",
        "    return fib(n - 2) + fib(n - 1)"
      ],
      "metadata": {
        "id": "nxjLFqmm_fE8"
      },
      "execution_count": null,
      "outputs": []
    },
    {
      "cell_type": "code",
      "source": [
        "fib(4)"
      ],
      "metadata": {
        "colab": {
          "base_uri": "https://localhost:8080/"
        },
        "id": "xw7VsZe-HGjg",
        "outputId": "766cf116-0bf7-4437-c52f-1eca2f477a3b"
      },
      "execution_count": null,
      "outputs": [
        {
          "output_type": "stream",
          "name": "stdout",
          "text": [
            "{((0,), ()): 1}\n",
            "{((0,), ()): 1, ((1,), ()): 1}\n",
            "{((0,), ()): 1, ((1,), ()): 1, ((2,), ()): 2}\n",
            "{((0,), ()): 1, ((1,), ()): 1, ((2,), ()): 2}\n",
            "{((0,), ()): 1, ((1,), ()): 1, ((2,), ()): 2}\n",
            "{((0,), ()): 1, ((1,), ()): 1, ((2,), ()): 2, ((3,), ()): 3}\n",
            "{((0,), ()): 1, ((1,), ()): 1, ((2,), ()): 2, ((3,), ()): 3, ((4,), ()): 5}\n"
          ]
        },
        {
          "output_type": "execute_result",
          "data": {
            "text/plain": [
              "5"
            ]
          },
          "metadata": {},
          "execution_count": 9
        }
      ]
    },
    {
      "cell_type": "markdown",
      "source": [
        "# Декоратор, определяющий среднее значение времени выполнения"
      ],
      "metadata": {
        "id": "FYxVDQfl_2TN"
      }
    },
    {
      "cell_type": "code",
      "source": [
        "import time"
      ],
      "metadata": {
        "id": "QaBlx8bq_t-F"
      },
      "execution_count": null,
      "outputs": []
    },
    {
      "cell_type": "code",
      "source": [
        "def times(func):\n",
        "  ans = 0\n",
        "\n",
        "  @functools.wraps(func)\n",
        "  def inner(*args, **kwargs):\n",
        "\n",
        "    for _ in range(1000):\n",
        "      start = time.perf_counter()\n",
        "      res = func(*args, **kwargs)\n",
        "      ans = time.perf_counter() - start\n",
        "\n",
        "    return f\"Среднее время выполнения функции: {ans / 1000} мс\"\n",
        "  return inner"
      ],
      "metadata": {
        "id": "fPQ64FkK__9A"
      },
      "execution_count": null,
      "outputs": []
    },
    {
      "cell_type": "code",
      "source": [
        "@times\n",
        "def count(x):\n",
        "  return x ** 3"
      ],
      "metadata": {
        "id": "5zI_IyGqCHK1"
      },
      "execution_count": null,
      "outputs": []
    },
    {
      "cell_type": "code",
      "source": [
        "count(4)"
      ],
      "metadata": {
        "colab": {
          "base_uri": "https://localhost:8080/",
          "height": 36
        },
        "id": "7xgM2JU9CSD8",
        "outputId": "de4b4290-de03-4d3d-8562-1c28b4251e09"
      },
      "execution_count": null,
      "outputs": [
        {
          "output_type": "execute_result",
          "data": {
            "text/plain": [
              "'Среднее время выполнения функции: 4.739999894809443e-10 мс'"
            ],
            "application/vnd.google.colaboratory.intrinsic+json": {
              "type": "string"
            }
          },
          "metadata": {},
          "execution_count": 13
        }
      ]
    },
    {
      "cell_type": "markdown",
      "source": [
        "# Декоратор, который выводит тип и значение входных и выходных данных"
      ],
      "metadata": {
        "id": "b3y3rXUCqRBm"
      }
    },
    {
      "cell_type": "code",
      "source": [
        "def dec_type(func):\n",
        "\n",
        "  @functools.wraps(func)\n",
        "  def inner(*args, **kwargs):\n",
        "\n",
        "    means = args + tuple(sorted(kwargs.values()))\n",
        "\n",
        "    for mean in means:\n",
        "      print(mean, type(mean))\n",
        "\n",
        "    res = func(*args, **kwargs)\n",
        "    print(res, type(res))\n",
        "\n",
        "    return res\n",
        "\n",
        "  return inner"
      ],
      "metadata": {
        "id": "iGqY1EJHCg9Z"
      },
      "execution_count": null,
      "outputs": []
    },
    {
      "cell_type": "code",
      "source": [
        "@dec_type\n",
        "def counter(x):\n",
        "  return x + 1"
      ],
      "metadata": {
        "id": "OK2FUX7KtOgU"
      },
      "execution_count": null,
      "outputs": []
    },
    {
      "cell_type": "code",
      "source": [
        "counter(7)"
      ],
      "metadata": {
        "colab": {
          "base_uri": "https://localhost:8080/"
        },
        "id": "Bat-PKoatigv",
        "outputId": "c88a7990-f585-4514-c9e9-1aa12ae4b1f1"
      },
      "execution_count": null,
      "outputs": [
        {
          "output_type": "stream",
          "name": "stdout",
          "text": [
            "7 <class 'int'>\n",
            "8 <class 'int'>\n"
          ]
        },
        {
          "output_type": "execute_result",
          "data": {
            "text/plain": [
              "8"
            ]
          },
          "metadata": {},
          "execution_count": 19
        }
      ]
    },
    {
      "cell_type": "markdown",
      "source": [
        "Декоратор, который реализует шаблон Singleton"
      ],
      "metadata": {
        "id": "xBSm0EX_xgyo"
      }
    },
    {
      "cell_type": "code",
      "source": [
        "def Singleton(cls):\n",
        "\n",
        "  single_dict = {}\n",
        "  @functools.wraps(cls)\n",
        "\n",
        "  def inner(*args, **kwargs):\n",
        "    print(single_dict)\n",
        "\n",
        "    if cls not in single_dict:\n",
        "      single_dict[cls] = cls(*args, **kwargs)\n",
        "\n",
        "    return single_dict[cls]\n",
        "\n",
        "  return inner"
      ],
      "metadata": {
        "id": "NJ_nS-kQuACE"
      },
      "execution_count": null,
      "outputs": []
    },
    {
      "cell_type": "code",
      "source": [
        "@Singleton\n",
        "class Parent:\n",
        "  def __init__(self, node):\n",
        "    self.node = node\n"
      ],
      "metadata": {
        "id": "ZFmOg7cJ2U44"
      },
      "execution_count": null,
      "outputs": []
    },
    {
      "cell_type": "code",
      "source": [
        "par = Parent(\"папа\")"
      ],
      "metadata": {
        "colab": {
          "base_uri": "https://localhost:8080/"
        },
        "id": "EvQe19Lz2rDB",
        "outputId": "41ac5954-efe4-4904-c0c5-faea5f96e1c1"
      },
      "execution_count": null,
      "outputs": [
        {
          "output_type": "stream",
          "name": "stdout",
          "text": [
            "{}\n"
          ]
        }
      ]
    },
    {
      "cell_type": "code",
      "source": [
        "ser = Parent(\"папа\")"
      ],
      "metadata": {
        "colab": {
          "base_uri": "https://localhost:8080/"
        },
        "id": "cnE16HIY3N4N",
        "outputId": "f1f29efc-5df8-45fe-dae1-60d42e9df6eb"
      },
      "execution_count": null,
      "outputs": [
        {
          "output_type": "stream",
          "name": "stdout",
          "text": [
            "{<class '__main__.Parent'>: <__main__.Parent object at 0x7c5d8397f370>}\n"
          ]
        }
      ]
    },
    {
      "cell_type": "code",
      "source": [
        "print(\"Object created\", par)\n",
        "print(\"Object created\", ser)"
      ],
      "metadata": {
        "colab": {
          "base_uri": "https://localhost:8080/"
        },
        "id": "itM7qvDc3e9c",
        "outputId": "c03b8543-d47c-4968-d793-aa9f1821154b"
      },
      "execution_count": null,
      "outputs": [
        {
          "output_type": "stream",
          "name": "stdout",
          "text": [
            "Object created <__main__.Parent object at 0x7c5d8397f370>\n",
            "Object created <__main__.Parent object at 0x7c5d8397f370>\n"
          ]
        }
      ]
    },
    {
      "cell_type": "code",
      "source": [],
      "metadata": {
        "id": "MqgsnbK63n0K"
      },
      "execution_count": null,
      "outputs": []
    }
  ]
}